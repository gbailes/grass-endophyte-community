{
 "cells": [
  {
   "cell_type": "markdown",
   "metadata": {},
   "source": [
    "This will be a record of my additions to graham's analysis on his grass endophyte paper. \n",
    "\n",
    "[Getting data out R](#Rextract)  \n",
    "[Cleaning data in python](#cleanup)  \n",
    "[South-to-North diversity gradient](#NSDiv)  "
   ]
  },
  {
   "cell_type": "markdown",
   "metadata": {},
   "source": [
    "## Getting data out R\n",
    "<a id=\"Rextract\"></a>\n",
    "\n",
    "I'm not very efficient in R. Let's keep the R to a minimum, and use python where possible to clean and model data. Some analyses in R are inevitable, we'll come back to it as we need it. \n",
    "\n",
    "But to start, let's get graham's data into memory:"
   ]
  },
  {
   "cell_type": "code",
   "execution_count": 1,
   "metadata": {},
   "outputs": [],
   "source": [
    "library(phyloseq)\n",
    "\n",
    "biom97 <- import_biom('~/Documents/analyses/grahamGrass/grass-endophyte-community/grass_97_wmeta.biom')"
   ]
  },
  {
   "cell_type": "markdown",
   "metadata": {},
   "source": [
    "We'll want the sample info to make maps and do spatial analysis:"
   ]
  },
  {
   "cell_type": "code",
   "execution_count": null,
   "metadata": {},
   "outputs": [],
   "source": [
    "write.csv(sample_data(biom97), file='grahamSample.csv')"
   ]
  },
  {
   "cell_type": "markdown",
   "metadata": {},
   "source": [
    "As our [first task below](#NSDiv), we're doing an analysis of biodiversity as a function of latitude. To make comparisons of diversity among samples with very different read numbers, we'll need to rarify back to common numbers of reads. For the moment, we'll try the lowest number that let's us include all samples that are not controls (~7000 reads), and go up from there to 20,000 reads:"
   ]
  },
  {
   "cell_type": "code",
   "execution_count": 3,
   "metadata": {
    "collapsed": true
   },
   "outputs": [
    {
     "name": "stderr",
     "output_type": "stream",
     "text": [
      "`set.seed(1)` was used to initialize repeatable random subsampling.\n",
      "\n",
      "Please record this for your records so others can reproduce.\n",
      "\n",
      "Try `set.seed(1); .Random.seed` for the full vector\n",
      "\n",
      "...\n",
      "\n",
      "822OTUs were removed because they are no longer \n",
      "present in any sample after random subsampling\n",
      "\n",
      "\n",
      "...\n",
      "\n",
      "`set.seed(1)` was used to initialize repeatable random subsampling.\n",
      "\n",
      "Please record this for your records so others can reproduce.\n",
      "\n",
      "Try `set.seed(1); .Random.seed` for the full vector\n",
      "\n",
      "...\n",
      "\n",
      "6 samples removedbecause they contained fewer reads than `sample.size`.\n",
      "\n",
      "Up to first five removed samples are: \n",
      "\n",
      "\n",
      "10grass11grass14grass15grass16grass\n",
      "\n",
      "...\n",
      "\n",
      "374OTUs were removed because they are no longer \n",
      "present in any sample after random subsampling\n",
      "\n",
      "\n",
      "...\n",
      "\n"
     ]
    }
   ],
   "source": [
    "biom97_noCon = subset_samples(biom97, site != 'Control')\n",
    "## set our sample size:\n",
    "sampsizes = c(7000, 20000)\n",
    "\n",
    "for (i in sampsizes){\n",
    "    filename = paste(\"diversity\",i,\".csv\", sep='')\n",
    "    biom97_rar.i = rarefy_even_depth(biom97_noCon, sample.size = i, rngseed = 1)\n",
    "    aa <- estimate_richness(biom97_rar.i, measures=c('Simpson', 'Observed'))\n",
    "    write.csv(aa, file=filename)\n",
    "}\n"
   ]
  },
  {
   "cell_type": "code",
   "execution_count": null,
   "metadata": {},
   "outputs": [],
   "source": []
  },
  {
   "cell_type": "markdown",
   "metadata": {},
   "source": [
    "## Cleaning data in python\n",
    "<a id=\"cleanup\"></a>\n",
    "\n",
    "We need a dataframe that gives geographical location of each site in UTMs rather than lat/long. We also need to generate means and variance of the diversity of each site."
   ]
  },
  {
   "cell_type": "code",
   "execution_count": 1,
   "metadata": {
    "scrolled": true
   },
   "outputs": [
    {
     "name": "stderr",
     "output_type": "stream",
     "text": [
      "/usr/local/lib/python3.8/dist-packages/geopandas/_compat.py:84: UserWarning: The Shapely GEOS version (3.8.0-CAPI-1.13.1 ) is incompatible with the GEOS version PyGEOS was compiled with (3.8.1-CAPI-1.13.3). Conversions between both will be slow.\n",
      "  warnings.warn(\n"
     ]
    }
   ],
   "source": [
    "import numpy as np\n",
    "import pandas as pd\n",
    "import geopandas as gpd\n",
    "import matplotlib.pyplot as plt; plt.ion()\n",
    "from scipy import stats\n",
    "from sklearn.linear_model import LinearRegression"
   ]
  },
  {
   "cell_type": "markdown",
   "metadata": {},
   "source": [
    "To get our by-site geographic information:"
   ]
  },
  {
   "cell_type": "code",
   "execution_count": 15,
   "metadata": {
    "scrolled": true
   },
   "outputs": [
    {
     "data": {
      "text/html": [
       "<div>\n",
       "<style scoped>\n",
       "    .dataframe tbody tr th:only-of-type {\n",
       "        vertical-align: middle;\n",
       "    }\n",
       "\n",
       "    .dataframe tbody tr th {\n",
       "        vertical-align: top;\n",
       "    }\n",
       "\n",
       "    .dataframe thead th {\n",
       "        text-align: right;\n",
       "    }\n",
       "</style>\n",
       "<table border=\"1\" class=\"dataframe\">\n",
       "  <thead>\n",
       "    <tr style=\"text-align: right;\">\n",
       "      <th></th>\n",
       "      <th>percent_sand</th>\n",
       "      <th>latitude</th>\n",
       "      <th>percent_C</th>\n",
       "      <th>WINTER.PRECIPITATION</th>\n",
       "      <th>region</th>\n",
       "      <th>SPRING.MAX.TEMPERATURE</th>\n",
       "      <th>ANNUAL.MIN.TEMPERATURE</th>\n",
       "      <th>total_N</th>\n",
       "      <th>stems</th>\n",
       "      <th>NO3</th>\n",
       "      <th>...</th>\n",
       "      <th>ANNUAL.PRECIPITATION</th>\n",
       "      <th>soil_pH</th>\n",
       "      <th>stems_browsed</th>\n",
       "      <th>C_to_N</th>\n",
       "      <th>elevation</th>\n",
       "      <th>percent_clay</th>\n",
       "      <th>seeds_produced</th>\n",
       "      <th>ANNUAL.MEAN.TEMPERATURE</th>\n",
       "      <th>SUMMER.DEWPOINT.TEMPERATURE</th>\n",
       "      <th>density</th>\n",
       "    </tr>\n",
       "  </thead>\n",
       "  <tbody>\n",
       "    <tr>\n",
       "      <th>5grass</th>\n",
       "      <td>51.42</td>\n",
       "      <td>42.1</td>\n",
       "      <td>2.17</td>\n",
       "      <td>262.31</td>\n",
       "      <td>SOR</td>\n",
       "      <td>20.54</td>\n",
       "      <td>3.95</td>\n",
       "      <td>20.36</td>\n",
       "      <td>19.0</td>\n",
       "      <td>18.72</td>\n",
       "      <td>...</td>\n",
       "      <td>1599.87</td>\n",
       "      <td>7.51</td>\n",
       "      <td>0.0</td>\n",
       "      <td>0.02</td>\n",
       "      <td>448.0</td>\n",
       "      <td>30.2</td>\n",
       "      <td>1143.61</td>\n",
       "      <td>11.94</td>\n",
       "      <td>7.12</td>\n",
       "      <td>18.76</td>\n",
       "    </tr>\n",
       "    <tr>\n",
       "      <th>6grass</th>\n",
       "      <td>51.42</td>\n",
       "      <td>42.1</td>\n",
       "      <td>2.17</td>\n",
       "      <td>262.31</td>\n",
       "      <td>SOR</td>\n",
       "      <td>20.54</td>\n",
       "      <td>3.95</td>\n",
       "      <td>20.36</td>\n",
       "      <td>23.0</td>\n",
       "      <td>18.72</td>\n",
       "      <td>...</td>\n",
       "      <td>1599.87</td>\n",
       "      <td>7.51</td>\n",
       "      <td>0.0</td>\n",
       "      <td>0.02</td>\n",
       "      <td>448.0</td>\n",
       "      <td>30.2</td>\n",
       "      <td>1597.35</td>\n",
       "      <td>11.94</td>\n",
       "      <td>7.12</td>\n",
       "      <td>18.76</td>\n",
       "    </tr>\n",
       "    <tr>\n",
       "      <th>7grass</th>\n",
       "      <td>51.42</td>\n",
       "      <td>42.1</td>\n",
       "      <td>2.17</td>\n",
       "      <td>262.31</td>\n",
       "      <td>SOR</td>\n",
       "      <td>20.54</td>\n",
       "      <td>3.95</td>\n",
       "      <td>20.36</td>\n",
       "      <td>47.0</td>\n",
       "      <td>18.72</td>\n",
       "      <td>...</td>\n",
       "      <td>1599.87</td>\n",
       "      <td>7.51</td>\n",
       "      <td>3.0</td>\n",
       "      <td>0.02</td>\n",
       "      <td>448.0</td>\n",
       "      <td>30.2</td>\n",
       "      <td>2648.36</td>\n",
       "      <td>11.94</td>\n",
       "      <td>7.12</td>\n",
       "      <td>18.76</td>\n",
       "    </tr>\n",
       "    <tr>\n",
       "      <th>8grass</th>\n",
       "      <td>51.42</td>\n",
       "      <td>42.1</td>\n",
       "      <td>2.17</td>\n",
       "      <td>262.31</td>\n",
       "      <td>SOR</td>\n",
       "      <td>20.54</td>\n",
       "      <td>3.95</td>\n",
       "      <td>20.36</td>\n",
       "      <td>38.0</td>\n",
       "      <td>18.72</td>\n",
       "      <td>...</td>\n",
       "      <td>1599.87</td>\n",
       "      <td>7.51</td>\n",
       "      <td>0.0</td>\n",
       "      <td>0.02</td>\n",
       "      <td>448.0</td>\n",
       "      <td>30.2</td>\n",
       "      <td>1583.46</td>\n",
       "      <td>11.94</td>\n",
       "      <td>7.12</td>\n",
       "      <td>18.76</td>\n",
       "    </tr>\n",
       "    <tr>\n",
       "      <th>9grass</th>\n",
       "      <td>51.42</td>\n",
       "      <td>42.1</td>\n",
       "      <td>2.17</td>\n",
       "      <td>262.31</td>\n",
       "      <td>SOR</td>\n",
       "      <td>20.54</td>\n",
       "      <td>3.95</td>\n",
       "      <td>20.36</td>\n",
       "      <td>35.0</td>\n",
       "      <td>18.72</td>\n",
       "      <td>...</td>\n",
       "      <td>1599.87</td>\n",
       "      <td>7.51</td>\n",
       "      <td>0.0</td>\n",
       "      <td>0.02</td>\n",
       "      <td>448.0</td>\n",
       "      <td>30.2</td>\n",
       "      <td>1458.45</td>\n",
       "      <td>11.94</td>\n",
       "      <td>7.12</td>\n",
       "      <td>18.76</td>\n",
       "    </tr>\n",
       "  </tbody>\n",
       "</table>\n",
       "<p>5 rows × 51 columns</p>\n",
       "</div>"
      ],
      "text/plain": [
       "        percent_sand  latitude  percent_C  WINTER.PRECIPITATION region  \\\n",
       "5grass         51.42      42.1       2.17                262.31    SOR   \n",
       "6grass         51.42      42.1       2.17                262.31    SOR   \n",
       "7grass         51.42      42.1       2.17                262.31    SOR   \n",
       "8grass         51.42      42.1       2.17                262.31    SOR   \n",
       "9grass         51.42      42.1       2.17                262.31    SOR   \n",
       "\n",
       "        SPRING.MAX.TEMPERATURE  ANNUAL.MIN.TEMPERATURE  total_N  stems    NO3  \\\n",
       "5grass                   20.54                    3.95    20.36   19.0  18.72   \n",
       "6grass                   20.54                    3.95    20.36   23.0  18.72   \n",
       "7grass                   20.54                    3.95    20.36   47.0  18.72   \n",
       "8grass                   20.54                    3.95    20.36   38.0  18.72   \n",
       "9grass                   20.54                    3.95    20.36   35.0  18.72   \n",
       "\n",
       "        ... ANNUAL.PRECIPITATION  soil_pH stems_browsed C_to_N  elevation  \\\n",
       "5grass  ...              1599.87     7.51           0.0   0.02      448.0   \n",
       "6grass  ...              1599.87     7.51           0.0   0.02      448.0   \n",
       "7grass  ...              1599.87     7.51           3.0   0.02      448.0   \n",
       "8grass  ...              1599.87     7.51           0.0   0.02      448.0   \n",
       "9grass  ...              1599.87     7.51           0.0   0.02      448.0   \n",
       "\n",
       "        percent_clay  seeds_produced  ANNUAL.MEAN.TEMPERATURE  \\\n",
       "5grass          30.2         1143.61                    11.94   \n",
       "6grass          30.2         1597.35                    11.94   \n",
       "7grass          30.2         2648.36                    11.94   \n",
       "8grass          30.2         1583.46                    11.94   \n",
       "9grass          30.2         1458.45                    11.94   \n",
       "\n",
       "        SUMMER.DEWPOINT.TEMPERATURE  density  \n",
       "5grass                         7.12    18.76  \n",
       "6grass                         7.12    18.76  \n",
       "7grass                         7.12    18.76  \n",
       "8grass                         7.12    18.76  \n",
       "9grass                         7.12    18.76  \n",
       "\n",
       "[5 rows x 51 columns]"
      ]
     },
     "execution_count": 15,
     "metadata": {},
     "output_type": "execute_result"
    }
   ],
   "source": [
    "grahamSample = pd.read_csv('grahamSample.csv', index_col=0)\n",
    "grahamSample.head()"
   ]
  },
  {
   "cell_type": "markdown",
   "metadata": {},
   "source": [
    "Seems like we have two latitudes for Hazel Dell:"
   ]
  },
  {
   "cell_type": "code",
   "execution_count": 16,
   "metadata": {},
   "outputs": [
    {
     "name": "stdout",
     "output_type": "stream",
     "text": [
      "[44.03 44.02]\n",
      "[-123.22]\n"
     ]
    }
   ],
   "source": [
    "grs = grahamSample.groupby('site')\n",
    "print(grs.get_group('Hazel_Dell').latitude.unique())\n",
    "print(grs.get_group('Hazel_Dell').longitude.unique())"
   ]
  },
  {
   "cell_type": "code",
   "execution_count": 17,
   "metadata": {},
   "outputs": [
    {
     "name": "stdout",
     "output_type": "stream",
     "text": [
      "Total sites at latitude 44.03 = 12\n",
      "Total sites at latitude 44.02 = 12\n"
     ]
    }
   ],
   "source": [
    "print(f'Total sites at latitude 44.03 = {sum(grahamSample.latitude == 44.03)}')\n",
    "print(f'Total sites at latitude 44.02 = {sum(grahamSample.latitude == 44.02)}')"
   ]
  },
  {
   "cell_type": "markdown",
   "metadata": {},
   "source": [
    "For the moment, we'll assume that the Hazel Dell sites all have the same latitude, that this is some sort of rounding error. We'll keep the more southern location, until someone tells us otherwise:"
   ]
  },
  {
   "cell_type": "code",
   "execution_count": 18,
   "metadata": {},
   "outputs": [
    {
     "name": "stderr",
     "output_type": "stream",
     "text": [
      "<ipython-input-18-f263d2f1635e>:2: SettingWithCopyWarning: \n",
      "A value is trying to be set on a copy of a slice from a DataFrame\n",
      "\n",
      "See the caveats in the documentation: https://pandas.pydata.org/pandas-docs/stable/user_guide/indexing.html#returning-a-view-versus-a-copy\n",
      "  grahamSample.latitude[hd4403] = 44.02\n"
     ]
    }
   ],
   "source": [
    "hd4403 = grahamSample.latitude == 44.03\n",
    "grahamSample.latitude[hd4403] = 44.02"
   ]
  },
  {
   "cell_type": "markdown",
   "metadata": {},
   "source": [
    "I hate the slicing issue, always pops up. To make sure:"
   ]
  },
  {
   "cell_type": "code",
   "execution_count": 19,
   "metadata": {},
   "outputs": [
    {
     "name": "stdout",
     "output_type": "stream",
     "text": [
      "Total sites now at latitude 44.03 = 0\n",
      "Total sites now at latitude 44.02 = 24\n"
     ]
    }
   ],
   "source": [
    "print(f'Total sites now at latitude 44.03 = {sum(grahamSample.latitude == 44.03)}')\n",
    "print(f'Total sites now at latitude 44.02 = {sum(grahamSample.latitude == 44.02)}')"
   ]
  },
  {
   "cell_type": "markdown",
   "metadata": {},
   "source": [
    "Looks like it worked. Subset to just the columns of interest:"
   ]
  },
  {
   "cell_type": "code",
   "execution_count": 21,
   "metadata": {
    "scrolled": true
   },
   "outputs": [
    {
     "name": "stdout",
     "output_type": "stream",
     "text": [
      "             latitude  longitude\n",
      "site                            \n",
      "French_flat     42.10    -123.63\n",
      "Upper_Table     42.47    -122.88\n",
      "Hazel_Dell      44.02    -123.22\n",
      "Horse_Rock      44.30    -122.88\n",
      "Upper_Weir      46.91    -122.71\n",
      "Whidbey         48.21    -122.62\n",
      "Roxy_Ann        42.35    -122.79\n",
      "Whetstone       42.42    -122.91\n",
      "Lower_Table     42.47    -122.95\n"
     ]
    }
   ],
   "source": [
    "aa = grahamSample[['site','latitude','longitude']]\n",
    "bb = aa.reset_index(drop=True)\n",
    "dd = bb.drop_duplicates()\n",
    "dd.set_index('site', inplace=True)\n",
    "ee = dd.drop('Control')\n",
    "print(ee)"
   ]
  },
  {
   "cell_type": "markdown",
   "metadata": {},
   "source": [
    "Nice, but we want UTMs, and a proper geopandas df:"
   ]
  },
  {
   "cell_type": "code",
   "execution_count": 25,
   "metadata": {
    "scrolled": true
   },
   "outputs": [
    {
     "data": {
      "text/html": [
       "<div>\n",
       "<style scoped>\n",
       "    .dataframe tbody tr th:only-of-type {\n",
       "        vertical-align: middle;\n",
       "    }\n",
       "\n",
       "    .dataframe tbody tr th {\n",
       "        vertical-align: top;\n",
       "    }\n",
       "\n",
       "    .dataframe thead th {\n",
       "        text-align: right;\n",
       "    }\n",
       "</style>\n",
       "<table border=\"1\" class=\"dataframe\">\n",
       "  <thead>\n",
       "    <tr style=\"text-align: right;\">\n",
       "      <th></th>\n",
       "      <th>geometry</th>\n",
       "    </tr>\n",
       "    <tr>\n",
       "      <th>site</th>\n",
       "      <th></th>\n",
       "    </tr>\n",
       "  </thead>\n",
       "  <tbody>\n",
       "    <tr>\n",
       "      <th>French_flat</th>\n",
       "      <td>POINT (448002.580 4660874.730)</td>\n",
       "    </tr>\n",
       "    <tr>\n",
       "      <th>Upper_Table</th>\n",
       "      <td>POINT (509959.448 4701771.456)</td>\n",
       "    </tr>\n",
       "    <tr>\n",
       "      <th>Hazel_Dell</th>\n",
       "      <td>POINT (482462.948 4873918.789)</td>\n",
       "    </tr>\n",
       "    <tr>\n",
       "      <th>Horse_Rock</th>\n",
       "      <td>POINT (509667.410 4905002.198)</td>\n",
       "    </tr>\n",
       "    <tr>\n",
       "      <th>Upper_Weir</th>\n",
       "      <td>POINT (522179.104 5195005.240)</td>\n",
       "    </tr>\n",
       "    <tr>\n",
       "      <th>Whidbey</th>\n",
       "      <td>POINT (528326.591 5339512.618)</td>\n",
       "    </tr>\n",
       "    <tr>\n",
       "      <th>Roxy_Ann</th>\n",
       "      <td>POINT (517390.804 4688461.394)</td>\n",
       "    </tr>\n",
       "    <tr>\n",
       "      <th>Whetstone</th>\n",
       "      <td>POINT (507499.198 4696216.553)</td>\n",
       "    </tr>\n",
       "    <tr>\n",
       "      <th>Lower_Table</th>\n",
       "      <td>POINT (504205.130 4701765.701)</td>\n",
       "    </tr>\n",
       "  </tbody>\n",
       "</table>\n",
       "</div>"
      ],
      "text/plain": [
       "                                   geometry\n",
       "site                                       \n",
       "French_flat  POINT (448002.580 4660874.730)\n",
       "Upper_Table  POINT (509959.448 4701771.456)\n",
       "Hazel_Dell   POINT (482462.948 4873918.789)\n",
       "Horse_Rock   POINT (509667.410 4905002.198)\n",
       "Upper_Weir   POINT (522179.104 5195005.240)\n",
       "Whidbey      POINT (528326.591 5339512.618)\n",
       "Roxy_Ann     POINT (517390.804 4688461.394)\n",
       "Whetstone    POINT (507499.198 4696216.553)\n",
       "Lower_Table  POINT (504205.130 4701765.701)"
      ]
     },
     "execution_count": 25,
     "metadata": {},
     "output_type": "execute_result"
    }
   ],
   "source": [
    "grahamSites = (gpd.GeoDataFrame(\n",
    "    ee, geometry=gpd.points_from_xy(ee.longitude, ee.latitude))\n",
    "    .drop(['latitude','longitude'], axis=1)\n",
    ")\n",
    "\n",
    "grahamSites.set_crs('EPSG:4326', inplace=True)\n",
    "## reproject to UTM zone 10, which is EPSG:26710\n",
    "grahamSites.to_crs('EPSG:26710', inplace=True)\n",
    "grahamSites"
   ]
  },
  {
   "cell_type": "code",
   "execution_count": null,
   "metadata": {},
   "outputs": [],
   "source": [
    "#grahamSites.to_csv('grahamSiteCoords.csv')\n",
    "## not a perfect export, have to modify with vim to get a good csv\n",
    "## but works\n",
    "\n",
    "## and maybe save us some work later:\n",
    "#grahamSites.to_pickle('grahamSiteCoords.p')"
   ]
  },
  {
   "cell_type": "code",
   "execution_count": 27,
   "metadata": {
    "scrolled": true
   },
   "outputs": [
    {
     "data": {
      "text/plain": [
       "<matplotlib.axes._subplots.AxesSubplot at 0x7fd893696880>"
      ]
     },
     "execution_count": 27,
     "metadata": {},
     "output_type": "execute_result"
    },
    {
     "data": {
      "image/png": "[encoded data removed]",
      "text/plain": [
       "<Figure size 432x288 with 1 Axes>"
      ]
     },
     "metadata": {
      "needs_background": "light"
     },
     "output_type": "display_data"
    }
   ],
   "source": [
    "## check it on some maps. Here are some publicly available geojsons:\n",
    "fig, ax = plt.subplots()\n",
    "oregon = gpd.read_file('OR.geo.json')\n",
    "oregon.to_crs('EPSG:26710', inplace=True)\n",
    "washington = gpd.read_file('WA.geo.json')\n",
    "washington.to_crs('EPSG:26710', inplace=True)\n",
    "oregon.plot(ax=ax)\n",
    "washington.plot(ax=ax)\n",
    "grahamSites.plot(ax=ax, color='red')\n",
    "\n"
   ]
  },
  {
   "cell_type": "markdown",
   "metadata": {},
   "source": [
    "Looks right..."
   ]
  },
  {
   "cell_type": "markdown",
   "metadata": {},
   "source": [
    "Here is a function for cleaning up the csv's we got from the `phyloseq` `estimate_richness()` function:"
   ]
  },
  {
   "cell_type": "code",
   "execution_count": 2,
   "metadata": {},
   "outputs": [],
   "source": []
  },
  {
   "cell_type": "code",
   "execution_count": 4,
   "metadata": {},
   "outputs": [],
   "source": [
    "def plotDiv(gpdRich, tit='', ax=None):\n",
    "    if ax is not None: ax=ax\n",
    "    if ax is None: fig, ax = plt.subplots()\n",
    "    ax.errorbar(x=gpdRich['geometry'].y,\n",
    "                y=gpdRich['richness'],\n",
    "                yerr=gpdRich['richnessSD'],\n",
    "                fmt='o',)\n",
    "    ## ols line\n",
    "    X = gpdRich['geometry'].y.to_numpy().reshape(-1,1)\n",
    "    Y = gpdRich['richness'].to_numpy().reshape(-1,1)\n",
    "    ax.plot( X, LinearRegression().fit(X, Y).predict(X),\n",
    "            c='k', linewidth=2, #linestyle= \"dotted\",\n",
    "            label='OLS linear regression model'\n",
    "           )\n",
    "    ## site labels:\n",
    "    labs = gpdRich.index.to_series()\n",
    "    xy = zip(gpdRich['geometry'].y, gpdRich['richness'])\n",
    "    for i,j in enumerate(xy):\n",
    "        ax.annotate(labs[i], xy=j)\n",
    "    ## include linear regression results\n",
    "    corStats = stats.linregress( gpdRich['geometry'].y, gpdRich['richness'])\n",
    "    corString = (f'Pearson\\'s r = {round(corStats[2],3)}, p = {round(corStats[3],3)}')\n",
    "    top = ax.get_ylim()[1]\n",
    "    right = ax.get_xlim()[1]\n",
    "    ax.text(right, top, corString,\n",
    "            horizontalalignment='right',\n",
    "            verticalalignment='top')\n",
    "    ax.set_title(tit)\n"
   ]
  },
  {
   "cell_type": "markdown",
   "metadata": {},
   "source": [
    "So we can use these to look at our species richness trends:"
   ]
  },
  {
   "cell_type": "code",
   "execution_count": 6,
   "metadata": {},
   "outputs": [
    {
     "data": {
      "image/png": "[encoded data removed]",
      "text/plain": [
       "<Figure size 432x288 with 1 Axes>"
      ]
     },
     "metadata": {
      "needs_background": "light"
     },
     "output_type": "display_data"
    },
    {
     "data": {
      "image/png": "[encoded data removed]",
      "text/plain": [
       "<Figure size 432x288 with 1 Axes>"
      ]
     },
     "metadata": {
      "needs_background": "light"
     },
     "output_type": "display_data"
    }
   ],
   "source": [
    "gpdDiv_filenames = ['diversity7000.csv','diversity20000.csv']\n",
    "\n",
    "for i,j in enumerate(gpdDiv_filenames):\n",
    "    gpdRich = siteRichnessGPD(j)\n",
    "    plotDiv(gpdRich, tit=j)\n"
   ]
  },
  {
   "cell_type": "markdown",
   "metadata": {},
   "source": [
    "## South-to-North diversity gradient]\n",
    "<a id=\"NSDiv\"></a>\n",
    "\n",
    "There are some indications of a trend of increasing diversity of endophytes with latitude."
   ]
  }
 ],
 "metadata": {
  "kernelspec": {
   "display_name": "Python 3",
   "language": "python",
   "name": "python3"
  },
  "language_info": {
   "codemirror_mode": {
    "name": "ipython",
    "version": 3
   },
   "file_extension": ".py",
   "mimetype": "text/x-python",
   "name": "python",
   "nbconvert_exporter": "python",
   "pygments_lexer": "ipython3",
   "version": "3.8.10"
  }
 },
 "nbformat": 4,
 "nbformat_minor": 4
}
